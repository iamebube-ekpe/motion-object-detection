{
 "cells": [
  {
   "cell_type": "code",
   "execution_count": null,
   "source": [
    "import cv2"
   ],
   "outputs": [],
   "metadata": {}
  },
  {
   "cell_type": "code",
   "execution_count": null,
   "source": [
    "import matplotlib.pyplot as plt"
   ],
   "outputs": [],
   "metadata": {}
  },
  {
   "cell_type": "code",
   "execution_count": null,
   "source": [
    "config_file = 'ssd_mobilenet_v3_large_coco_2020_01_14.pbtxt'\r\n",
    "frozen_model = 'frozen_inference_graph.pb'"
   ],
   "outputs": [],
   "metadata": {}
  },
  {
   "cell_type": "code",
   "execution_count": null,
   "source": [
    "model = cv2.dnn_DetectionModel(frozen_model, config_file)"
   ],
   "outputs": [],
   "metadata": {}
  },
  {
   "cell_type": "code",
   "execution_count": null,
   "source": [
    "classLabels = []\r\n",
    "file_name = 'obj-labels.txt'\r\n",
    "with open(file_name, 'rt') as f:\r\n",
    "    classLabels = f.read().rstrip('\\n').split('\\n')\r\n",
    "    "
   ],
   "outputs": [],
   "metadata": {}
  },
  {
   "cell_type": "code",
   "execution_count": null,
   "source": [
    "print(classLabels)"
   ],
   "outputs": [],
   "metadata": {}
  },
  {
   "cell_type": "code",
   "execution_count": null,
   "source": [
    "print(len(classLabels))"
   ],
   "outputs": [],
   "metadata": {}
  },
  {
   "cell_type": "code",
   "execution_count": null,
   "source": [
    "model.setInputSize(320, 320)\r\n",
    "model.setInputScale(1.0 / 127.5)\r\n",
    "model.setInputMean((127.5, 127.5, 127.5))\r\n",
    "model.setInputSwapRB(True)"
   ],
   "outputs": [],
   "metadata": {}
  },
  {
   "cell_type": "markdown",
   "source": [
    "# Reading an image"
   ],
   "metadata": {}
  },
  {
   "cell_type": "code",
   "execution_count": null,
   "source": [
    "img = cv2.imread() # Read image: Input image file name"
   ],
   "outputs": [],
   "metadata": {}
  },
  {
   "cell_type": "code",
   "execution_count": null,
   "source": [
    "plt.imshow(img)"
   ],
   "outputs": [],
   "metadata": {}
  },
  {
   "cell_type": "code",
   "execution_count": null,
   "source": [
    "plt.imshow(cv2.cvtColor(img, cv2.COLOR_BGR2RGB))"
   ],
   "outputs": [],
   "metadata": {}
  },
  {
   "cell_type": "code",
   "execution_count": null,
   "source": [
    "classIndex, confidence, bbox = model.detect(img, confThreshold=0.5)"
   ],
   "outputs": [],
   "metadata": {}
  },
  {
   "cell_type": "code",
   "execution_count": null,
   "source": [
    "print(classIndex)"
   ],
   "outputs": [],
   "metadata": {}
  },
  {
   "cell_type": "markdown",
   "source": [
    "## Flatten the list"
   ],
   "metadata": {}
  },
  {
   "cell_type": "code",
   "execution_count": null,
   "source": [
    "font-scale = 3\r\n",
    "font = cv2.FONT_HERSHEY_PLAIN\r\n",
    "for classInd, conf, boxes in zip(classIndex.flatten(), confidence.flatten(), bbox):\r\n",
    "    cv2.rectangle(img, boxes, (0, 255, 0), 2)\r\n",
    "    cv2.putText(img, classLabels[classInd-1],(boxes[0]+10, boxes[1]+40), font, fontScale=font-scale, color=(0,255,0), thickness=3)\r\n"
   ],
   "outputs": [],
   "metadata": {}
  },
  {
   "cell_type": "code",
   "execution_count": null,
   "source": [
    "plt.imshow(cv2.cvtColor(img, cv2.COLOR_BGR2RGB))"
   ],
   "outputs": [],
   "metadata": {}
  },
  {
   "cell_type": "markdown",
   "source": [
    "# Video Detection"
   ],
   "metadata": {}
  },
  {
   "cell_type": "code",
   "execution_count": null,
   "source": [
    "cap = cv2.VideoCapture(0)\r\n",
    "\r\n",
    "if not cap.isOpened():\r\n",
    "    cap = cv2.VideoCapture(0)\r\n",
    "if not cap.isOpened():\r\n",
    "    raise IOError(\"Cannot open webcam\")\r\n",
    "\r\n",
    "\r\n",
    "font-scale = 3\r\n",
    "font = cv2.FONT_HERSHEY_PLAIN\r\n",
    "\r\n",
    "while True:\r\n",
    "    ret, frame = cap.read()\r\n",
    "\r\n",
    "    classIndex, confidence, bbox = model.detect(frame, confThreshold=0.55)\r\n",
    "\r\n",
    "    print(classIndex)\r\n",
    "    if (len(classIndex) != 0):\r\n",
    "        for classInd, conf, boxes in zip(classIndex.flatten(), confidence.flatten(), bbox):\r\n",
    "            if (classInd <= len(classLabels)):\r\n",
    "                cv2.rectangle(frame, boxes, (0, 255, 0), 2)\r\n",
    "                cv2.putText(frame, classLabels[classInd-1],(boxes[0]+10, boxes[1]+40), font, fontScale=font-scale, color=(0,255,0), thickness=3)\r\n",
    "    \r\n",
    "    cv2.imshow('Object Detection', frame)\r\n",
    "\r\n",
    "    if cv2.waitKey(1) & 0xFF == ord('q'):\r\n",
    "        break\r\n",
    "\r\n",
    "cap.release()\r\n",
    "cv2.destroyAllWindows()"
   ],
   "outputs": [],
   "metadata": {}
  }
 ],
 "metadata": {
  "orig_nbformat": 4,
  "language_info": {
   "name": "python",
   "version": "3.9.6"
  },
  "kernelspec": {
   "name": "python3",
   "display_name": "Python 3.9.6 64-bit"
  },
  "interpreter": {
   "hash": "77c4c483448b428a13acbae65a50c8783e2f515d60489472bf7c84a790753feb"
  }
 },
 "nbformat": 4,
 "nbformat_minor": 2
}